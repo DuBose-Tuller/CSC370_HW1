{
 "cells": [
  {
   "cell_type": "code",
   "execution_count": 14,
   "metadata": {},
   "outputs": [],
   "source": [
    "import pandas as pd"
   ]
  },
  {
   "cell_type": "code",
   "execution_count": 15,
   "id": "316027dc",
   "metadata": {},
   "outputs": [
    {
     "name": "stdout",
     "output_type": "stream",
     "text": [
      "                1\n",
      "0                \n",
      "2        2.000000\n",
      "4        4.000000\n",
      "6        8.000000\n",
      "8       11.000000\n",
      "10      73.666667\n",
      "12     109.700000\n",
      "14     139.285714\n",
      "16    2418.000000\n",
      "18   20072.000000\n",
      "20   60700.869565\n",
      "22  186301.450000\n",
      "24  300464.000000\n",
      "26  416235.000000\n",
      "30  211760.000000\n"
     ]
    }
   ],
   "source": [
    "data = pd.read_csv(\"taxicab.csv\", header=None)\n",
    "print(data.groupby(0).mean())\n",
    "\n",
    "\n"
   ]
  },
  {
   "cell_type": "code",
   "execution_count": null,
   "id": "f60807a9",
   "metadata": {},
   "outputs": [],
   "source": []
  }
 ],
 "metadata": {
  "kernelspec": {
   "display_name": "base",
   "language": "python",
   "name": "python3"
  },
  "language_info": {
   "codemirror_mode": {
    "name": "ipython",
    "version": 3
   },
   "file_extension": ".py",
   "mimetype": "text/x-python",
   "name": "python",
   "nbconvert_exporter": "python",
   "pygments_lexer": "ipython3",
   "version": "3.9.5"
  },
  "vscode": {
   "interpreter": {
    "hash": "d931cb38971dd57f4602ec6b0e3269e9322d587bcbb4e318a877691bb31ddece"
   }
  }
 },
 "nbformat": 4,
 "nbformat_minor": 5
}

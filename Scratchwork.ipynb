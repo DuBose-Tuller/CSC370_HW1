{
 "cells": [
  {
   "cell_type": "code",
   "execution_count": 7,
   "metadata": {},
   "outputs": [],
   "source": [
    "import pandas as pd"
   ]
  },
  {
   "cell_type": "code",
   "execution_count": 8,
   "id": "316027dc",
   "metadata": {},
   "outputs": [
    {
     "name": "stdout",
     "output_type": "stream",
     "text": [
      "          1\n",
      "0          \n",
      "8      18.0\n",
      "10     41.0\n",
      "12     58.0\n",
      "14    115.0\n",
      "16    256.0\n",
      "18    541.0\n",
      "20   1145.0\n",
      "22   2394.0\n",
      "24   4808.0\n",
      "26  11426.0\n",
      "28  26983.0\n",
      "30  71938.0\n"
     ]
    }
   ],
   "source": [
    "data = pd.read_csv(\"taxicab_lower_g.csv\", header=None)\n",
    "print(data.groupby(0).mean() // 1)\n",
    "\n",
    "\n"
   ]
  },
  {
   "cell_type": "code",
   "execution_count": null,
   "id": "f60807a9",
   "metadata": {},
   "outputs": [],
   "source": []
  }
 ],
 "metadata": {
  "kernelspec": {
   "display_name": "base",
   "language": "python",
   "name": "python3"
  },
  "language_info": {
   "codemirror_mode": {
    "name": "ipython",
    "version": 3
   },
   "file_extension": ".py",
   "mimetype": "text/x-python",
   "name": "python",
   "nbconvert_exporter": "python",
   "pygments_lexer": "ipython3",
   "version": "3.9.5"
  },
  "vscode": {
   "interpreter": {
    "hash": "d931cb38971dd57f4602ec6b0e3269e9322d587bcbb4e318a877691bb31ddece"
   }
  }
 },
 "nbformat": 4,
 "nbformat_minor": 5
}
